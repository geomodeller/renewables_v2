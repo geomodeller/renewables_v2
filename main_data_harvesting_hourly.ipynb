{
 "cells": [
  {
   "cell_type": "code",
   "execution_count": null,
   "metadata": {},
   "outputs": [],
   "source": [
    "from script.data_harvest import TLSAdapter\n",
    "import requests\n",
    "import pandas as pd\n",
    "import matplotlib.pyplot as plt\n",
    "from datetime import datetime, timedelta"
   ]
  },
  {
   "cell_type": "code",
   "execution_count": null,
   "metadata": {},
   "outputs": [],
   "source": [
    "\n",
    "headers = {'User-Agent': 'Mozilla/5.0 (Windows NT 10.0; Win64; x64) AppleWebKit/537.36 (KHTML, like Gecko) Chrome/122.0.0.0 Safari/537.36'}\n",
    "\n",
    "session = requests.Session()\n",
    "session.mount('https://', TLSAdapter())\n",
    "\n",
    "start_date = datetime.strptime('4/7/2022', '%m/%d/%Y')\n",
    "end_date = datetime.strptime('3/26/2025', '%m/%d/%Y')\n",
    "delta = timedelta(days=1)\n",
    "\n",
    "all_dfs = []\n",
    "\n",
    "current_date = start_date\n",
    "while current_date <= end_date:\n",
    "    date_str = f\"{current_date.month}/{current_date.day}/{current_date.year}\"\n",
    "    url = f'https://www.nwd-wc.usace.army.mil/dd/nwdp/project_hourly/webexec/rep?r=bcl&date={date_str}'\n",
    "    try:\n",
    "        response = session.get(url, headers=headers, verify=False)\n",
    "        tables = pd.read_html(response.text)\n",
    "        df = tables[0]\n",
    "        df['Date'] = current_date\n",
    "        all_dfs.append(df)\n",
    "    except Exception as e:\n",
    "        print(f\"Failed to process {date_str}: {e}\")\n",
    "    current_date += delta\n",
    "\n",
    "final_df = pd.concat(all_dfs, ignore_index=True)\n",
    "print(final_df.head())\n",
    "\n",
    "\n",
    "numeric_cols = final_df.select_dtypes(include=['number']).columns\n",
    "for col in numeric_cols:\n",
    "    plt.figure(figsize=(12, 6))\n",
    "    plt.plot(final_df['Date'], final_df[col])\n",
    "    plt.title(f'{col} over Time')\n",
    "    plt.xlabel('Date')\n",
    "    plt.ylabel(col)\n",
    "    plt.grid(True)\n",
    "    plt.tight_layout()\n",
    "    plt.show()\n",
    "\n",
    "print(final_df.head())\n",
    "#precipitation\n",
    "#Tmax and Tmin\n",
    "\n"
   ]
  }
 ],
 "metadata": {
  "kernelspec": {
   "display_name": "base",
   "language": "python",
   "name": "python3"
  },
  "language_info": {
   "codemirror_mode": {
    "name": "ipython",
    "version": 3
   },
   "file_extension": ".py",
   "mimetype": "text/x-python",
   "name": "python",
   "nbconvert_exporter": "python",
   "pygments_lexer": "ipython3",
   "version": "3.12.7"
  }
 },
 "nbformat": 4,
 "nbformat_minor": 2
}
